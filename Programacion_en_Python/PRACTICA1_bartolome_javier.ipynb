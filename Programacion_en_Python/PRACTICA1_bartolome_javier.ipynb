{
 "cells": [
  {
   "cell_type": "markdown",
   "metadata": {},
   "source": [
    "### Javier Bartolomé Rodríguez\n",
    "# Ejercicios de diccionarios PRÁCTICA 1"
   ]
  },
  {
   "cell_type": "markdown",
   "metadata": {},
   "source": [
    "## Ejercicio 1"
   ]
  },
  {
   "cell_type": "markdown",
   "metadata": {},
   "source": [
    "El fichero [localidades.txt]() contiene información de las localidades de la Comunidad de Madrid. Los datos que contiene son:\n",
    "* Nombre de la localidad\n",
    "* Teléfono Ayuntamiento\n",
    "* Teléfono Información\n",
    "* Teléfono emergencias\n",
    "\n",
    "Aunque los teléfonos pueden no aparecer todos en el fichero.\n",
    "Crear una función llamada __leer_datos__ que lea los datos del fichero y los almacene en una lista de líneas. Usa la operación __readlines__ de los ficheros. El parámetro de entrada de la función es la ruta donde se encuentra el fichero. \n",
    "\n",
    "La función debe devolver una lista con todos los municipio leídos en el fichero.\n",
    "¿ Cuantos municipios hay en el fichero ?\n",
    "\n",
    "__Nota__ \n",
    "\n",
    "Si da problemas la función `open`, usa el parámetro `encoding= \"utf-8\"`  para solucionarlo."
   ]
  },
  {
   "cell_type": "code",
   "execution_count": 1,
   "metadata": {},
   "outputs": [],
   "source": [
    "# Abrir archivo para poder trabajar con el:\n",
    "f = open('localidades.txt', encoding=\"utf8\")\n",
    "l = f.readlines() #lista de lineas\n",
    "l\n"
   ]
  },
  {
   "cell_type": "code",
   "execution_count": null,
   "metadata": {},
   "outputs": [],
   "source": [
    "# Definimos la funcion que nos permitira devolver la lista\n",
    "def leer_localidades():\n",
    "    f = open('localidades.txt', encoding=\"utf8\")\n",
    "    l = f.readlines()\n",
    "    localidades = []\n",
    "    for linea in l[1:]:\n",
    "        datos = linea.split('|')\n",
    "        localidades.append(datos[0])\n",
    "    return localidades\n",
    "        "
   ]
  },
  {
   "cell_type": "code",
   "execution_count": 16,
   "metadata": {},
   "outputs": [],
   "source": [
    "#Asignamos nombre para ejecutar la lista\n",
    "\n",
    "lista_de_localidades = leer_localidades()"
   ]
  },
  {
   "cell_type": "code",
   "execution_count": 18,
   "metadata": {},
   "outputs": [
    {
     "data": {
      "text/plain": [
       "161"
      ]
     },
     "execution_count": 18,
     "metadata": {},
     "output_type": "execute_result"
    }
   ],
   "source": [
    "#Comprobamos cuanto mide la lista\n",
    "len (lista_de_localidades)"
   ]
  },
  {
   "cell_type": "code",
   "execution_count": 17,
   "metadata": {},
   "outputs": [
    {
     "data": {
      "text/plain": [
       "['La Acebeda',\n",
       " 'Ajalvir',\n",
       " 'El Álamo',\n",
       " 'Alcalá de Henares',\n",
       " 'Alcobendas',\n",
       " 'Alcorcón',\n",
       " 'Aldea del Fresno',\n",
       " 'Alpedrete',\n",
       " 'Ambite',\n",
       " 'Anchuelo',\n",
       " 'Aranjuez',\n",
       " 'Arganda del Rey',\n",
       " 'Arroyomolinos',\n",
       " 'El Atazar',\n",
       " 'Batres',\n",
       " 'Becerril de la Sierra',\n",
       " 'Belmonte de Tajo',\n",
       " 'El Berrueco',\n",
       " 'Berzosa del Lozoya',\n",
       " 'Boadilla del Monte',\n",
       " 'El Boalo',\n",
       " 'Brea de Tajo',\n",
       " 'Brunete',\n",
       " 'Buitrago del Lozoya',\n",
       " 'Bustarviejo',\n",
       " 'Cabanillas de la Sierra',\n",
       " 'La Cabrera',\n",
       " 'Cadalso de los Vidrios',\n",
       " 'Camarma de Esteruelas',\n",
       " 'Campo Real',\n",
       " 'Canencia',\n",
       " 'Carabaña',\n",
       " 'Casarrubuelos',\n",
       " 'Cenicientos',\n",
       " 'Cercedilla',\n",
       " 'Cervera de Buitrago',\n",
       " 'Chapinería',\n",
       " 'Chinchón',\n",
       " 'Ciempozuelos',\n",
       " 'Cobeña',\n",
       " 'Collado Mediano',\n",
       " 'Collado Villalba',\n",
       " 'Colmenar de Oreja',\n",
       " 'Colmenar del Arroyo',\n",
       " 'Colmenar Viejo',\n",
       " 'Coslada',\n",
       " 'Cubas de la Sagra',\n",
       " 'El Escorial',\n",
       " 'Estremera',\n",
       " 'Fresnedillas de la Oliva',\n",
       " 'Fresno de Torote',\n",
       " 'Fuenlabrada',\n",
       " 'Fuente el Saz de Jarama',\n",
       " 'Fuentidueña de Tajo',\n",
       " 'Garganta de los Montes',\n",
       " 'Gargantilla del Lozoya y Pinilla de Buitrago',\n",
       " 'Gascones',\n",
       " 'Getafe',\n",
       " 'Griñón',\n",
       " 'Guadalix de la Sierra',\n",
       " 'Guadarrama',\n",
       " 'La Hiruela',\n",
       " 'Horcajo de la Sierra-Aoslos',\n",
       " 'Horcajuelo de la Sierra',\n",
       " 'Hoyo de Manzanares',\n",
       " 'Humanes de Madrid',\n",
       " 'Leganés',\n",
       " 'Loeches',\n",
       " 'Lozoya',\n",
       " 'Madarcos',\n",
       " 'Madrid',\n",
       " 'Majadahonda',\n",
       " 'Manzanares el Real',\n",
       " 'Meco',\n",
       " 'Mejorada del Campo',\n",
       " 'Miraflores de la Sierra',\n",
       " 'El Molar',\n",
       " 'Montejo de la Sierra',\n",
       " 'Moraleja de Enmedio',\n",
       " 'Moralzarzal',\n",
       " 'Morata de Tajuña',\n",
       " 'Móstoles',\n",
       " 'Navacerrada',\n",
       " 'Navalafuente',\n",
       " 'Navalagamella',\n",
       " 'Navarredonda y San Mamés',\n",
       " 'Navas del Rey',\n",
       " 'Nuevo Baztán',\n",
       " 'Olmeda de las Fuentes',\n",
       " 'Orusco de Tajuña',\n",
       " 'Paracuellos de Jarama',\n",
       " 'Parla',\n",
       " 'Patones',\n",
       " 'Pedrezuela',\n",
       " 'Pelayos de la Presa',\n",
       " 'Perales de Tajuña',\n",
       " 'Pezuela de las Torres',\n",
       " 'Pinilla del Valle',\n",
       " 'Pinto',\n",
       " 'Piñuécar-Gandullas',\n",
       " 'Pozuelo de Alarcón',\n",
       " 'Pozuelo del Rey',\n",
       " 'Prádena del Rincón',\n",
       " 'Puebla de la Sierra',\n",
       " 'Puentes Viejas',\n",
       " 'Quijorna',\n",
       " 'Rascafría',\n",
       " 'Redueña',\n",
       " 'Ribatejada',\n",
       " 'Rivas-Vaciamadrid',\n",
       " 'Robledillo de la Jara',\n",
       " 'Robledo de Chavela',\n",
       " 'Las Rozas de Madrid',\n",
       " 'Rozas de Puerto Real',\n",
       " 'San Agustín del Guadalix',\n",
       " 'San Fernando de Henares',\n",
       " 'San Lorenzo de El Escorial',\n",
       " 'San Martín de la Vega',\n",
       " 'San Martín de Valdeiglesias',\n",
       " 'San Sebastián de los Reyes',\n",
       " 'Santa María de la Alameda',\n",
       " 'La Serna del Monte',\n",
       " 'Serranillos del Valle',\n",
       " 'Sevilla la Nueva',\n",
       " 'Somosierra',\n",
       " 'Soto del Real',\n",
       " 'Talamanca de Jarama',\n",
       " 'Tielmes',\n",
       " 'Torrejón de la Calzada',\n",
       " 'Torrejón de Velasco',\n",
       " 'Torrelaguna',\n",
       " 'Torrelodones',\n",
       " 'Torres de la Alameda',\n",
       " 'Tres Cantos',\n",
       " 'Valdaracete',\n",
       " 'Valdeavero',\n",
       " 'Valdelaguna',\n",
       " 'Valdemanco',\n",
       " 'Valdemaqueda',\n",
       " 'Valdemorillo',\n",
       " 'Valdemoro',\n",
       " 'Valdeolmos-Alalpardo',\n",
       " 'Valdepiélagos',\n",
       " 'Valdetorres de Jarama',\n",
       " 'Valdilecha',\n",
       " 'Valverde de Alcalá',\n",
       " 'Velilla de San Antonio',\n",
       " 'El Vellón',\n",
       " 'Villa del Prado',\n",
       " 'Villaconejos',\n",
       " 'Villalbilla',\n",
       " 'Villamanrique de Tajo',\n",
       " 'Villamanta',\n",
       " 'Villamantilla',\n",
       " 'Villanueva de la Cañada',\n",
       " 'Villanueva de Perales',\n",
       " 'Villanueva del Pardillo',\n",
       " 'Villar del Olmo',\n",
       " 'Villaviciosa de Odón',\n",
       " 'Villavieja del Lozoya',\n",
       " 'Zarzalejo']"
      ]
     },
     "execution_count": 17,
     "metadata": {},
     "output_type": "execute_result"
    }
   ],
   "source": [
    "lista_de_localidades"
   ]
  },
  {
   "cell_type": "markdown",
   "metadata": {},
   "source": [
    "## Ejercicio 2"
   ]
  },
  {
   "cell_type": "markdown",
   "metadata": {},
   "source": [
    "Escribe una función llamada __crear_agenda__ para crear la agenda de los teléfonos de los municipios de la Comunidad de Madrid.\n",
    "La función tiene un único parámetro de entrada, que es la lista de municipios devuelta por la función del Ejercicio 1. \n",
    "\n",
    "El valor devuelto por la función __crear_agenda__ es de tipo diccionario, donde las claves son los nombres de los municipios y el valor asociado a cada clave será otro diccionario con tantas claves como teléfonos disponibles tenga el municipio.\n",
    "\n",
    "__Notas:__\n",
    "La función deve devolver un diccionario con el siguiente aspecto:\n",
    "\n",
    "```\n",
    "{\n",
    " 'La Acebeda': {'Teléfono Ayuntamiento': '9286',   'Teléfono Información': '2855'},\n",
    " 'Ajalvir': {'Teléfono Información': '9097'},\n",
    " 'El Álamo': {'Teléfono Ayuntamiento': '9375', 'Teléfono Información': '8420'},\n",
    " 'Alcalá de Henares': {'Teléfono Ayuntamiento': '8350',   'Teléfono Emergencias': '7261'},\n",
    " 'Alcobendas': {'Teléfono Información': '3115'},\n",
    "    ...\n",
    "    ...\n",
    " 'Zarzalejo': {'Teléfono Ayuntamiento': '5046',  'Teléfono Información': '1283'}\n",
    "}\n",
    "```"
   ]
  },
  {
   "cell_type": "code",
   "execution_count": 21,
   "metadata": {},
   "outputs": [],
   "source": [
    "# Definimos la funcion for que nos permitira devolver el diccionario que queremos\n",
    "\n",
    "def crear_agenda_de_localidades():\n",
    "    f = open('localidades.txt', encoding=\"utf8\")\n",
    "    l = f.readlines()\n",
    "    agenda = {} #Creamos el diccionario donde iran los numeros de telefono\n",
    "    for linea in l[1:]:\n",
    "        datos = linea.split('|')\n",
    "        nombre = datos[0].strip()  #elimina saltos y espacios por la derecha\n",
    "        ayunta = datos[1].strip()\n",
    "        inf = datos[2].strip()\n",
    "        emer = datos[3].strip()\n",
    "        agenda[nombre] = {}\n",
    "        if ayunta != '':\n",
    "            agenda[nombre]['ayuntamiento'] = ayunta\n",
    "        if inf != '':\n",
    "            agenda[nombre]['informacion'] = inf\n",
    "        if emer != '':\n",
    "            agenda[nombre]['emergencias'] = emer\n",
    "        \n",
    "        \n",
    "        \n",
    "    return agenda      "
   ]
  },
  {
   "cell_type": "code",
   "execution_count": 22,
   "metadata": {},
   "outputs": [
    {
     "data": {
      "text/plain": [
       "{'La Acebeda': {'ayuntamiento': '9286', 'informacion': '2855'},\n",
       " 'Ajalvir': {'informacion': '9097'},\n",
       " 'El Álamo': {'ayuntamiento': '9375', 'informacion': '8420'},\n",
       " 'Alcalá de Henares': {'ayuntamiento': '8350', 'emergencias': '7261'},\n",
       " 'Alcobendas': {'informacion': '3115'},\n",
       " 'Alcorcón': {'emergencias': '9861'},\n",
       " 'Aldea del Fresno': {'emergencias': '4043'},\n",
       " 'Alpedrete': {'ayuntamiento': '1705',\n",
       "  'informacion': '6251',\n",
       "  'emergencias': '2198'},\n",
       " 'Ambite': {'informacion': '9037'},\n",
       " 'Anchuelo': {'ayuntamiento': '4973', 'informacion': '5257'},\n",
       " 'Aranjuez': {'informacion': '4805'},\n",
       " 'Arganda del Rey': {'ayuntamiento': '3111', 'emergencias': '3035'},\n",
       " 'Arroyomolinos': {'ayuntamiento': '2926', 'emergencias': '8481'},\n",
       " 'El Atazar': {'ayuntamiento': '9650', 'informacion': '7157'},\n",
       " 'Batres': {'ayuntamiento': '8800',\n",
       "  'informacion': '1164',\n",
       "  'emergencias': '6059'},\n",
       " 'Becerril de la Sierra': {'informacion': '7251', 'emergencias': '1875'},\n",
       " 'Belmonte de Tajo': {'emergencias': '3419'},\n",
       " 'El Berrueco': {'ayuntamiento': '2476', 'emergencias': '6650'},\n",
       " 'Berzosa del Lozoya': {'ayuntamiento': '4787',\n",
       "  'informacion': '2913',\n",
       "  'emergencias': '2478'},\n",
       " 'Boadilla del Monte': {'ayuntamiento': '1428', 'informacion': '5557'},\n",
       " 'El Boalo': {'ayuntamiento': '5632',\n",
       "  'informacion': '8008',\n",
       "  'emergencias': '8019'},\n",
       " 'Brea de Tajo': {'emergencias': '8496'},\n",
       " 'Brunete': {'ayuntamiento': '3731', 'informacion': '8510'},\n",
       " 'Buitrago del Lozoya': {'ayuntamiento': '6917',\n",
       "  'informacion': '2243',\n",
       "  'emergencias': '3178'},\n",
       " 'Bustarviejo': {'informacion': '6323', 'emergencias': '5048'},\n",
       " 'Cabanillas de la Sierra': {'informacion': '8537'},\n",
       " 'La Cabrera': {'informacion': '7061'},\n",
       " 'Cadalso de los Vidrios': {'ayuntamiento': '1525', 'emergencias': '3811'},\n",
       " 'Camarma de Esteruelas': {'informacion': '6306'},\n",
       " 'Campo Real': {'ayuntamiento': '5948', 'emergencias': '6869'},\n",
       " 'Canencia': {'informacion': '3642'},\n",
       " 'Carabaña': {'ayuntamiento': '7429',\n",
       "  'informacion': '3229',\n",
       "  'emergencias': '3824'},\n",
       " 'Casarrubuelos': {'emergencias': '9868'},\n",
       " 'Cenicientos': {'emergencias': '3535'},\n",
       " 'Cercedilla': {'ayuntamiento': '5951', 'emergencias': '4381'},\n",
       " 'Cervera de Buitrago': {'ayuntamiento': '8204',\n",
       "  'informacion': '7544',\n",
       "  'emergencias': '7888'},\n",
       " 'Chapinería': {'ayuntamiento': '3309', 'emergencias': '6356'},\n",
       " 'Chinchón': {'informacion': '8625', 'emergencias': '4951'},\n",
       " 'Ciempozuelos': {'ayuntamiento': '9342', 'emergencias': '5329'},\n",
       " 'Cobeña': {'ayuntamiento': '7469',\n",
       "  'informacion': '5442',\n",
       "  'emergencias': '7997'},\n",
       " 'Collado Mediano': {'emergencias': '3959'},\n",
       " 'Collado Villalba': {'ayuntamiento': '6803', 'emergencias': '9073'},\n",
       " 'Colmenar de Oreja': {'informacion': '1087', 'emergencias': '7879'},\n",
       " 'Colmenar del Arroyo': {'ayuntamiento': '2160', 'informacion': '8707'},\n",
       " 'Colmenar Viejo': {'ayuntamiento': '9666'},\n",
       " 'Coslada': {'ayuntamiento': '1785',\n",
       "  'informacion': '1329',\n",
       "  'emergencias': '4249'},\n",
       " 'Cubas de la Sagra': {'ayuntamiento': '6723'},\n",
       " 'El Escorial': {'informacion': '4217', 'emergencias': '1383'},\n",
       " 'Estremera': {'ayuntamiento': '5940',\n",
       "  'informacion': '2757',\n",
       "  'emergencias': '1302'},\n",
       " 'Fresnedillas de la Oliva': {'informacion': '3859', 'emergencias': '1188'},\n",
       " 'Fresno de Torote': {'informacion': '4211', 'emergencias': '5417'},\n",
       " 'Fuenlabrada': {'emergencias': '1792'},\n",
       " 'Fuente el Saz de Jarama': {'informacion': '6708', 'emergencias': '6663'},\n",
       " 'Fuentidueña de Tajo': {'informacion': '2465', 'emergencias': '5934'},\n",
       " 'Garganta de los Montes': {'ayuntamiento': '9175', 'informacion': '2960'},\n",
       " 'Gargantilla del Lozoya y Pinilla de Buitrago': {'informacion': '2009',\n",
       "  'emergencias': '1051'},\n",
       " 'Gascones': {'informacion': '4412', 'emergencias': '1008'},\n",
       " 'Getafe': {'ayuntamiento': '3961', 'informacion': '2375'},\n",
       " 'Griñón': {'ayuntamiento': '1403'},\n",
       " 'Guadalix de la Sierra': {'ayuntamiento': '8545', 'informacion': '7950'},\n",
       " 'Guadarrama': {'ayuntamiento': '4235', 'informacion': '8862'},\n",
       " 'La Hiruela': {'informacion': '3872', 'emergencias': '5047'},\n",
       " 'Horcajo de la Sierra-Aoslos': {'informacion': '2934'},\n",
       " 'Horcajuelo de la Sierra': {'informacion': '2301', 'emergencias': '9201'},\n",
       " 'Hoyo de Manzanares': {'ayuntamiento': '1957', 'emergencias': '1166'},\n",
       " 'Humanes de Madrid': {'emergencias': '6626'},\n",
       " 'Leganés': {'ayuntamiento': '6988', 'informacion': '4252'},\n",
       " 'Loeches': {'ayuntamiento': '4299', 'informacion': '8357'},\n",
       " 'Lozoya': {'informacion': '2105'},\n",
       " 'Madarcos': {'informacion': '9374', 'emergencias': '4670'},\n",
       " 'Madrid': {'informacion': '8364', 'emergencias': '5654'},\n",
       " 'Majadahonda': {'ayuntamiento': '6472'},\n",
       " 'Manzanares el Real': {'ayuntamiento': '2722'},\n",
       " 'Meco': {'ayuntamiento': '9795',\n",
       "  'informacion': '5167',\n",
       "  'emergencias': '1371'},\n",
       " 'Mejorada del Campo': {'informacion': '6626', 'emergencias': '6207'},\n",
       " 'Miraflores de la Sierra': {'ayuntamiento': '6707', 'emergencias': '8817'},\n",
       " 'El Molar': {'ayuntamiento': '3917',\n",
       "  'informacion': '4017',\n",
       "  'emergencias': '8453'},\n",
       " 'Montejo de la Sierra': {'ayuntamiento': '8909', 'emergencias': '4449'},\n",
       " 'Moraleja de Enmedio': {'emergencias': '8186'},\n",
       " 'Moralzarzal': {'ayuntamiento': '8395'},\n",
       " 'Morata de Tajuña': {'informacion': '6902', 'emergencias': '2568'},\n",
       " 'Móstoles': {'informacion': '7478'},\n",
       " 'Navacerrada': {'informacion': '4656', 'emergencias': '1879'},\n",
       " 'Navalafuente': {'ayuntamiento': '5930',\n",
       "  'informacion': '8503',\n",
       "  'emergencias': '5025'},\n",
       " 'Navalagamella': {'ayuntamiento': '8069', 'emergencias': '4266'},\n",
       " 'Navarredonda y San Mamés': {'informacion': '8217', 'emergencias': '9026'},\n",
       " 'Navas del Rey': {'ayuntamiento': '1968', 'informacion': '1822'},\n",
       " 'Nuevo Baztán': {'ayuntamiento': '3921',\n",
       "  'informacion': '8820',\n",
       "  'emergencias': '9022'},\n",
       " 'Olmeda de las Fuentes': {'ayuntamiento': '1686',\n",
       "  'informacion': '9027',\n",
       "  'emergencias': '6807'},\n",
       " 'Orusco de Tajuña': {'ayuntamiento': '1441', 'informacion': '3232'},\n",
       " 'Paracuellos de Jarama': {'ayuntamiento': '2725'},\n",
       " 'Parla': {'informacion': '7343'},\n",
       " 'Patones': {'ayuntamiento': '6989', 'informacion': '8254'},\n",
       " 'Pedrezuela': {'ayuntamiento': '6178', 'emergencias': '4419'},\n",
       " 'Pelayos de la Presa': {'ayuntamiento': '4819', 'informacion': '7781'},\n",
       " 'Perales de Tajuña': {'ayuntamiento': '7083',\n",
       "  'informacion': '5941',\n",
       "  'emergencias': '8831'},\n",
       " 'Pezuela de las Torres': {'ayuntamiento': '9057'},\n",
       " 'Pinilla del Valle': {'informacion': '7406'},\n",
       " 'Pinto': {'informacion': '4937', 'emergencias': '9777'},\n",
       " 'Piñuécar-Gandullas': {'emergencias': '3212'},\n",
       " 'Pozuelo de Alarcón': {'ayuntamiento': '5020', 'informacion': '5677'},\n",
       " 'Pozuelo del Rey': {'ayuntamiento': '8517',\n",
       "  'informacion': '2681',\n",
       "  'emergencias': '1992'},\n",
       " 'Prádena del Rincón': {'ayuntamiento': '7311'},\n",
       " 'Puebla de la Sierra': {'ayuntamiento': '8465', 'emergencias': '7208'},\n",
       " 'Puentes Viejas': {'ayuntamiento': '4810', 'emergencias': '9311'},\n",
       " 'Quijorna': {'ayuntamiento': '2955',\n",
       "  'informacion': '3847',\n",
       "  'emergencias': '6584'},\n",
       " 'Rascafría': {'informacion': '2517'},\n",
       " 'Redueña': {'ayuntamiento': '1697',\n",
       "  'informacion': '9153',\n",
       "  'emergencias': '2294'},\n",
       " 'Ribatejada': {'ayuntamiento': '7743', 'informacion': '7984'},\n",
       " 'Rivas-Vaciamadrid': {'ayuntamiento': '5772', 'emergencias': '8543'},\n",
       " 'Robledillo de la Jara': {'ayuntamiento': '6010', 'informacion': '8884'},\n",
       " 'Robledo de Chavela': {'ayuntamiento': '3370',\n",
       "  'informacion': '3012',\n",
       "  'emergencias': '1483'},\n",
       " 'Las Rozas de Madrid': {'ayuntamiento': '4613', 'informacion': '8600'},\n",
       " 'Rozas de Puerto Real': {'ayuntamiento': '5923'},\n",
       " 'San Agustín del Guadalix': {'emergencias': '7481'},\n",
       " 'San Fernando de Henares': {'ayuntamiento': '9757'},\n",
       " 'San Lorenzo de El Escorial': {'informacion': '8768', 'emergencias': '4994'},\n",
       " 'San Martín de la Vega': {'informacion': '8170', 'emergencias': '9757'},\n",
       " 'San Martín de Valdeiglesias': {'informacion': '7580', 'emergencias': '7601'},\n",
       " 'San Sebastián de los Reyes': {'ayuntamiento': '6214', 'informacion': '2003'},\n",
       " 'Santa María de la Alameda': {'ayuntamiento': '6150', 'informacion': '4360'},\n",
       " 'La Serna del Monte': {'informacion': '9793'},\n",
       " 'Serranillos del Valle': {'ayuntamiento': '6634',\n",
       "  'informacion': '4039',\n",
       "  'emergencias': '5521'},\n",
       " 'Sevilla la Nueva': {'informacion': '5915', 'emergencias': '2169'},\n",
       " 'Somosierra': {'emergencias': '8464'},\n",
       " 'Soto del Real': {'ayuntamiento': '4957', 'informacion': '1931'},\n",
       " 'Talamanca de Jarama': {'informacion': '8877'},\n",
       " 'Tielmes': {'ayuntamiento': '1990', 'emergencias': '2548'},\n",
       " 'Torrejón de la Calzada': {'ayuntamiento': '7768'},\n",
       " 'Torrejón de Velasco': {'ayuntamiento': '3004', 'informacion': '2922'},\n",
       " 'Torrelaguna': {'emergencias': '1217'},\n",
       " 'Torrelodones': {'ayuntamiento': '7985', 'informacion': '8890'},\n",
       " 'Torres de la Alameda': {'emergencias': '4479'},\n",
       " 'Tres Cantos': {'emergencias': '7377'},\n",
       " 'Valdaracete': {'ayuntamiento': '9116'},\n",
       " 'Valdeavero': {'emergencias': '1588'},\n",
       " 'Valdelaguna': {'ayuntamiento': '6780', 'emergencias': '9741'},\n",
       " 'Valdemanco': {'informacion': '6281', 'emergencias': '1655'},\n",
       " 'Valdemaqueda': {'informacion': '7048', 'emergencias': '7044'},\n",
       " 'Valdemorillo': {'ayuntamiento': '5771', 'informacion': '9142'},\n",
       " 'Valdemoro': {'ayuntamiento': '8494',\n",
       "  'informacion': '2649',\n",
       "  'emergencias': '6937'},\n",
       " 'Valdeolmos-Alalpardo': {'ayuntamiento': '9798'},\n",
       " 'Valdepiélagos': {'ayuntamiento': '2772', 'emergencias': '4486'},\n",
       " 'Valdetorres de Jarama': {'ayuntamiento': '7714',\n",
       "  'informacion': '3833',\n",
       "  'emergencias': '6464'},\n",
       " 'Valdilecha': {'informacion': '7484'},\n",
       " 'Valverde de Alcalá': {'ayuntamiento': '8862', 'emergencias': '2659'},\n",
       " 'Velilla de San Antonio': {'ayuntamiento': '4018', 'emergencias': '7163'},\n",
       " 'El Vellón': {'ayuntamiento': '7021', 'emergencias': '1788'},\n",
       " 'Villa del Prado': {'informacion': '6080'},\n",
       " 'Villaconejos': {'ayuntamiento': '5160', 'emergencias': '7071'},\n",
       " 'Villalbilla': {'ayuntamiento': '5229', 'emergencias': '1291'},\n",
       " 'Villamanrique de Tajo': {'ayuntamiento': '2573', 'emergencias': '7708'},\n",
       " 'Villamanta': {'ayuntamiento': '6789',\n",
       "  'informacion': '8392',\n",
       "  'emergencias': '9865'},\n",
       " 'Villamantilla': {'ayuntamiento': '1031', 'informacion': '4450'},\n",
       " 'Villanueva de la Cañada': {'ayuntamiento': '5320', 'emergencias': '5261'},\n",
       " 'Villanueva de Perales': {'ayuntamiento': '9567', 'emergencias': '6800'},\n",
       " 'Villanueva del Pardillo': {'emergencias': '3241'},\n",
       " 'Villar del Olmo': {'ayuntamiento': '9281', 'emergencias': '3595'},\n",
       " 'Villaviciosa de Odón': {'ayuntamiento': '2647', 'informacion': '5440'},\n",
       " 'Villavieja del Lozoya': {'ayuntamiento': '5913',\n",
       "  'informacion': '8741',\n",
       "  'emergencias': '5713'},\n",
       " 'Zarzalejo': {'ayuntamiento': '5046', 'informacion': '1283'}}"
      ]
     },
     "execution_count": 22,
     "metadata": {},
     "output_type": "execute_result"
    }
   ],
   "source": [
    "#Asignamos nombre para ejecutar la lista\n",
    "\n",
    "agenda_de_localidades = crear_agenda_de_localidades()\n",
    "agenda_de_localidades"
   ]
  },
  {
   "cell_type": "markdown",
   "metadata": {},
   "source": [
    "## Ejercicio 3 "
   ]
  },
  {
   "cell_type": "markdown",
   "metadata": {},
   "source": [
    "Escribe una función en Python llamada __consulta_telefono__ para recuperar los teléfonos disponibles de un municipio.\n",
    "La función tiene dos argumentos de entrada:\n",
    "1. Agenda de municipios creada por la función del ejercicio 2.\n",
    "2. Nombre de un municipio\n",
    "\n",
    "Si el nombre del municipio  no se encuentra en el diccionario, la función devuelve el valor `False`. En caso contrario, devuelve un diccionario con los teléfonos disponibles.\n",
    "\n",
    "__Ejemplo de ejecución:__\n",
    "\n",
    "``` \n",
    "In: \n",
    "    t = consulta_telefono('Zarzalejo', agenda_municipios)\n",
    "    t\n",
    "Out:\n",
    "    {'Teléfono Ayuntamiento': '5046',  'Teléfono Información': '1283'}\n",
    "```\n"
   ]
  },
  {
   "cell_type": "code",
   "execution_count": 23,
   "metadata": {},
   "outputs": [],
   "source": [
    "# Definimos la funcion if que nos devolvera el out que queremos\n",
    "\n",
    "def consulta_de_telefono( nombre, agenda):\n",
    "    if nombre in agenda:\n",
    "        return agenda[nombre]\n",
    "    else:\n",
    "        return False\n",
    "    "
   ]
  },
  {
   "cell_type": "code",
   "execution_count": 24,
   "metadata": {},
   "outputs": [
    {
     "data": {
      "text/plain": [
       "{'ayuntamiento': '5046', 'informacion': '1283'}"
      ]
     },
     "execution_count": 24,
     "metadata": {},
     "output_type": "execute_result"
    }
   ],
   "source": [
    "#Comprobamos si la funcion funciona\n",
    "\n",
    "consulta_de_telefono('Zarzalejo', agenda_de_localidades)"
   ]
  },
  {
   "cell_type": "markdown",
   "metadata": {},
   "source": [
    "## Ejercicio 4"
   ]
  },
  {
   "cell_type": "markdown",
   "metadata": {},
   "source": [
    "Escribe una función en Python llamada __consulta_tipo_telef__ para recuperar número de teléfono de un determinado tipo (Emergencias, Ayuntamiento o Información) de un municipio.\n",
    "La función tiene tres argumentos de entrada:\n",
    "1. Agenda de los municipios\n",
    "2. Nombre de un municipio\n",
    "3. Tipo de número de teléfono\n",
    "\n",
    "Si el municipio no se encuentra en la agenda, la función devuelve el valor `False`. En caso contrario, devuelve su número de teléfono. Si el tipo de teléfono no existe para ese amigo, la función devuelve el valor `False`.\n",
    "\n",
    "__Ejemplo de ejecución 1 :__\n",
    "\n",
    "``` \n",
    "In: \n",
    "    t =  consulta_tipo_telefono('Zarzalejo', 'Teléfono Ayuntamiento', agenda_municipios)\n",
    "    t\n",
    "Out:\n",
    "    5046\n",
    "```\n",
    "__Ejemplo de ejecución 2 :__\n",
    "``` \n",
    "In: \n",
    "    t =  consulta_tipo_telefono('Zarzalejo', 'Teléfono Piscina', agenda_municipios)\n",
    "    t\n",
    "Out:\n",
    "    False\n",
    "```\n",
    "\n"
   ]
  },
  {
   "cell_type": "code",
   "execution_count": 25,
   "metadata": {},
   "outputs": [],
   "source": [
    "# Definimos la funcion if que nos permitira devolver el diccionario que queremos\n",
    "\n",
    "def consulta_tipo_de_telefono (nombre, telefono, agenda):\n",
    "    if nombre in agenda and telefono in agenda[nombre]:\n",
    "        return agenda[nombre][telefono] \n",
    "    else:\n",
    "        return False\n",
    "    "
   ]
  },
  {
   "cell_type": "code",
   "execution_count": 28,
   "metadata": {},
   "outputs": [
    {
     "data": {
      "text/plain": [
       "False"
      ]
     },
     "execution_count": 28,
     "metadata": {},
     "output_type": "execute_result"
    }
   ],
   "source": [
    "#Comprobamos si funciona\n",
    "\n",
    "consulta_tipo_de_telefono ('Zarzalejo', 'Telefono Piscina' , agenda_de_localidades)\n"
   ]
  },
  {
   "cell_type": "code",
   "execution_count": 30,
   "metadata": {},
   "outputs": [
    {
     "data": {
      "text/plain": [
       "'5046'"
      ]
     },
     "execution_count": 30,
     "metadata": {},
     "output_type": "execute_result"
    }
   ],
   "source": [
    "#Comprobamos si funciona\n",
    "\n",
    "consulta_tipo_de_telefono ('Zarzalejo', 'ayuntamiento' , agenda_de_localidades)"
   ]
  },
  {
   "cell_type": "markdown",
   "metadata": {},
   "source": [
    "## Ejercicio 6"
   ]
  },
  {
   "cell_type": "markdown",
   "metadata": {},
   "source": [
    "Escribe una función en Python llamada __eliminar_municipio__ para eliminar los datos de un municipio de una agenda de teléfonos. Dicha agenda se representa como un diccionario. \n",
    "La función tiene tres  argumentos de entrada:\n",
    "1. Diccionario que representa la agenda\n",
    "2. El nombre de un municipio\n",
    "\n",
    "La función devuelve el valor `True` si se ha eliminado correctamente. Devuelve False para indicar que el municipio no estaba en la agenda.\n"
   ]
  },
  {
   "cell_type": "code",
   "execution_count": 31,
   "metadata": {},
   "outputs": [],
   "source": [
    "#Definimos la funcion que en este caso depende de la agenda y el municipio\n",
    "\n",
    "def eliminar_el_municipio(nombre, agenda): \n",
    "    if nombre in agenda:\n",
    "        agenda.pop(nombre) #pop para eliminar \n",
    "        return True\n",
    "    else: \n",
    "        return False"
   ]
  },
  {
   "cell_type": "code",
   "execution_count": 34,
   "metadata": {},
   "outputs": [
    {
     "data": {
      "text/plain": [
       "False"
      ]
     },
     "execution_count": 34,
     "metadata": {},
     "output_type": "execute_result"
    }
   ],
   "source": [
    "eliminar_el_municipio('Zarzall', agenda_de_localidades)"
   ]
  },
  {
   "cell_type": "code",
   "execution_count": 36,
   "metadata": {},
   "outputs": [
    {
     "data": {
      "text/plain": [
       "False"
      ]
     },
     "execution_count": 36,
     "metadata": {},
     "output_type": "execute_result"
    }
   ],
   "source": [
    "eliminar_el_municipio('Ajalvir', agenda_de_localidades) "
   ]
  },
  {
   "cell_type": "markdown",
   "metadata": {},
   "source": [
    "--------------------"
   ]
  }
 ],
 "metadata": {
  "anaconda-cloud": {},
  "kernelspec": {
   "display_name": "Python 3",
   "language": "python",
   "name": "python3"
  },
  "language_info": {
   "codemirror_mode": {
    "name": "ipython",
    "version": 3
   },
   "file_extension": ".py",
   "mimetype": "text/x-python",
   "name": "python",
   "nbconvert_exporter": "python",
   "pygments_lexer": "ipython3",
   "version": "3.7.3"
  },
  "nbTranslate": {
   "displayLangs": [
    "en",
    "es"
   ],
   "hotkey": "alt-t",
   "langInMainMenu": true,
   "sourceLang": "es",
   "targetLang": "en",
   "useGoogleTranslate": true
  },
  "toc": {
   "base_numbering": 1,
   "nav_menu": {
    "height": "86px",
    "width": "252px"
   },
   "number_sections": true,
   "sideBar": true,
   "skip_h1_title": false,
   "title_cell": "Table of Contents",
   "title_sidebar": "Contents",
   "toc_cell": false,
   "toc_position": {},
   "toc_section_display": "block",
   "toc_window_display": false
  }
 },
 "nbformat": 4,
 "nbformat_minor": 4
}
